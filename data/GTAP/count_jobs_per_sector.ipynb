{
 "cells": [
  {
   "cell_type": "code",
   "execution_count": 1,
   "metadata": {
    "run_control": {
     "frozen": false,
     "read_only": false
    }
   },
   "outputs": [],
   "source": [
    "import pandas as pd\n",
    "%matplotlib inline\n",
    "\n",
    "import numpy as np\n",
    "import glob\n",
    "\n",
    "import datetime\n",
    "import warnings\n",
    "\n",
    "from pre_process_sectors_categories import *\n",
    "\n",
    "%load_ext autoreload\n",
    "%autoreload 2\n",
    "\n",
    "# from wb_api_wrapper import *\n"
   ]
  },
  {
   "cell_type": "code",
   "execution_count": 2,
   "metadata": {},
   "outputs": [
    {
     "data": {
      "text/plain": [
       "'consumption_and_household_surveys/2017-10-13/'"
      ]
     },
     "execution_count": 2,
     "metadata": {},
     "output_type": "execute_result"
    }
   ],
   "source": [
    "glob.glob(\"consumption_and_household_surveys/*\")\n",
    "\n",
    "date_tag = glob.os.path.split(glob.glob(\"consumption_and_household_surveys/*\")[-1])[-1]\n",
    "hhh_dir = \"consumption_and_household_surveys/\"+date_tag+\"/\"\n",
    "hhh_dir"
   ]
  },
  {
   "cell_type": "markdown",
   "metadata": {},
   "source": [
    "# Read household survey with individual job classification"
   ]
  },
  {
   "cell_type": "code",
   "execution_count": 3,
   "metadata": {},
   "outputs": [
    {
     "data": {
      "text/html": [
       "<div>\n",
       "<style>\n",
       "    .dataframe thead tr:only-child th {\n",
       "        text-align: right;\n",
       "    }\n",
       "\n",
       "    .dataframe thead th {\n",
       "        text-align: left;\n",
       "    }\n",
       "\n",
       "    .dataframe tbody tr th {\n",
       "        vertical-align: top;\n",
       "    }\n",
       "</style>\n",
       "<table border=\"1\" class=\"dataframe\">\n",
       "  <thead>\n",
       "    <tr style=\"text-align: right;\">\n",
       "      <th></th>\n",
       "      <th>Unnamed: 0</th>\n",
       "      <th>pais</th>\n",
       "      <th>anio</th>\n",
       "      <th>encuesta</th>\n",
       "      <th>cod_hogar</th>\n",
       "      <th>cod_persona</th>\n",
       "      <th>miembros_hogar</th>\n",
       "      <th>factor_expansion</th>\n",
       "      <th>ing_lab_persona</th>\n",
       "      <th>rama_pri</th>\n",
       "      <th>...</th>\n",
       "      <th>gasto_edre</th>\n",
       "      <th>gasto_otros</th>\n",
       "      <th>cod_uf</th>\n",
       "      <th>num_seq</th>\n",
       "      <th>num_dv</th>\n",
       "      <th>cod_domc</th>\n",
       "      <th>num_ordem_inform</th>\n",
       "      <th>rama_pri_cor</th>\n",
       "      <th>rama_pri_isic3</th>\n",
       "      <th>rama_pri_isic4</th>\n",
       "    </tr>\n",
       "  </thead>\n",
       "  <tbody>\n",
       "    <tr>\n",
       "      <th>0</th>\n",
       "      <td>0</td>\n",
       "      <td>BRA</td>\n",
       "      <td>2008</td>\n",
       "      <td>POF</td>\n",
       "      <td>1.0</td>\n",
       "      <td>1</td>\n",
       "      <td>5</td>\n",
       "      <td>421.778564</td>\n",
       "      <td>0.000000</td>\n",
       "      <td>NaN</td>\n",
       "      <td>...</td>\n",
       "      <td>88.650002</td>\n",
       "      <td>264.746674</td>\n",
       "      <td>11</td>\n",
       "      <td>1</td>\n",
       "      <td>9</td>\n",
       "      <td>1</td>\n",
       "      <td>4.0</td>\n",
       "      <td>NaN</td>\n",
       "      <td>NaN</td>\n",
       "      <td>NaN</td>\n",
       "    </tr>\n",
       "    <tr>\n",
       "      <th>1</th>\n",
       "      <td>1</td>\n",
       "      <td>BRA</td>\n",
       "      <td>2008</td>\n",
       "      <td>POF</td>\n",
       "      <td>1.0</td>\n",
       "      <td>2</td>\n",
       "      <td>5</td>\n",
       "      <td>421.778564</td>\n",
       "      <td>5310.521484</td>\n",
       "      <td>53068.0</td>\n",
       "      <td>...</td>\n",
       "      <td>88.650002</td>\n",
       "      <td>264.746674</td>\n",
       "      <td>11</td>\n",
       "      <td>1</td>\n",
       "      <td>9</td>\n",
       "      <td>1</td>\n",
       "      <td>1.0</td>\n",
       "      <td>53068.0</td>\n",
       "      <td>513, 514, 519, 523, 524</td>\n",
       "      <td>4641,4649,4663,4661,4662,4669,4690,4772,4751,4...</td>\n",
       "    </tr>\n",
       "    <tr>\n",
       "      <th>2</th>\n",
       "      <td>2</td>\n",
       "      <td>BRA</td>\n",
       "      <td>2008</td>\n",
       "      <td>POF</td>\n",
       "      <td>1.0</td>\n",
       "      <td>3</td>\n",
       "      <td>5</td>\n",
       "      <td>421.778564</td>\n",
       "      <td>0.000000</td>\n",
       "      <td>NaN</td>\n",
       "      <td>...</td>\n",
       "      <td>88.650002</td>\n",
       "      <td>264.746674</td>\n",
       "      <td>11</td>\n",
       "      <td>1</td>\n",
       "      <td>9</td>\n",
       "      <td>1</td>\n",
       "      <td>2.0</td>\n",
       "      <td>NaN</td>\n",
       "      <td>NaN</td>\n",
       "      <td>NaN</td>\n",
       "    </tr>\n",
       "    <tr>\n",
       "      <th>3</th>\n",
       "      <td>3</td>\n",
       "      <td>BRA</td>\n",
       "      <td>2008</td>\n",
       "      <td>POF</td>\n",
       "      <td>1.0</td>\n",
       "      <td>4</td>\n",
       "      <td>5</td>\n",
       "      <td>421.778564</td>\n",
       "      <td>474.700043</td>\n",
       "      <td>53064.0</td>\n",
       "      <td>...</td>\n",
       "      <td>88.650002</td>\n",
       "      <td>264.746674</td>\n",
       "      <td>11</td>\n",
       "      <td>1</td>\n",
       "      <td>9</td>\n",
       "      <td>1</td>\n",
       "      <td>3.0</td>\n",
       "      <td>53064.0</td>\n",
       "      <td>515, 523</td>\n",
       "      <td>4651,4652,4653,4659,4772,4751,4771,4742,4753,4...</td>\n",
       "    </tr>\n",
       "    <tr>\n",
       "      <th>4</th>\n",
       "      <td>4</td>\n",
       "      <td>BRA</td>\n",
       "      <td>2008</td>\n",
       "      <td>POF</td>\n",
       "      <td>2.0</td>\n",
       "      <td>1</td>\n",
       "      <td>3</td>\n",
       "      <td>421.778564</td>\n",
       "      <td>8275.000000</td>\n",
       "      <td>18001.0</td>\n",
       "      <td>...</td>\n",
       "      <td>851.560303</td>\n",
       "      <td>804.262512</td>\n",
       "      <td>11</td>\n",
       "      <td>1</td>\n",
       "      <td>9</td>\n",
       "      <td>3</td>\n",
       "      <td>1.0</td>\n",
       "      <td>18001.0</td>\n",
       "      <td>181, 182</td>\n",
       "      <td>1313,1410,3290,1420,1511</td>\n",
       "    </tr>\n",
       "  </tbody>\n",
       "</table>\n",
       "<p>5 rows × 83 columns</p>\n",
       "</div>"
      ],
      "text/plain": [
       "   Unnamed: 0 pais  anio encuesta  cod_hogar  cod_persona  miembros_hogar  \\\n",
       "0           0  BRA  2008      POF        1.0            1               5   \n",
       "1           1  BRA  2008      POF        1.0            2               5   \n",
       "2           2  BRA  2008      POF        1.0            3               5   \n",
       "3           3  BRA  2008      POF        1.0            4               5   \n",
       "4           4  BRA  2008      POF        2.0            1               3   \n",
       "\n",
       "   factor_expansion  ing_lab_persona  rama_pri  \\\n",
       "0        421.778564         0.000000       NaN   \n",
       "1        421.778564      5310.521484   53068.0   \n",
       "2        421.778564         0.000000       NaN   \n",
       "3        421.778564       474.700043   53064.0   \n",
       "4        421.778564      8275.000000   18001.0   \n",
       "\n",
       "                         ...                          gasto_edre  gasto_otros  \\\n",
       "0                        ...                           88.650002   264.746674   \n",
       "1                        ...                           88.650002   264.746674   \n",
       "2                        ...                           88.650002   264.746674   \n",
       "3                        ...                           88.650002   264.746674   \n",
       "4                        ...                          851.560303   804.262512   \n",
       "\n",
       "   cod_uf  num_seq  num_dv  cod_domc  num_ordem_inform  rama_pri_cor  \\\n",
       "0      11        1       9         1               4.0           NaN   \n",
       "1      11        1       9         1               1.0       53068.0   \n",
       "2      11        1       9         1               2.0           NaN   \n",
       "3      11        1       9         1               3.0       53064.0   \n",
       "4      11        1       9         3               1.0       18001.0   \n",
       "\n",
       "            rama_pri_isic3                                     rama_pri_isic4  \n",
       "0                      NaN                                                NaN  \n",
       "1  513, 514, 519, 523, 524  4641,4649,4663,4661,4662,4669,4690,4772,4751,4...  \n",
       "2                      NaN                                                NaN  \n",
       "3                 515, 523  4651,4652,4653,4659,4772,4751,4771,4742,4753,4...  \n",
       "4                 181, 182                           1313,1410,3290,1420,1511  \n",
       "\n",
       "[5 rows x 83 columns]"
      ]
     },
     "execution_count": 3,
     "metadata": {},
     "output_type": "execute_result"
    }
   ],
   "source": [
    "db = pd.read_csv(hhh_dir+\"BRA_POF_2008-2009_PERSONA_with_isic.csv\")\n",
    "db.head()"
   ]
  },
  {
   "cell_type": "code",
   "execution_count": 4,
   "metadata": {},
   "outputs": [
    {
     "data": {
      "text/html": [
       "<div>\n",
       "<style>\n",
       "    .dataframe thead tr:only-child th {\n",
       "        text-align: right;\n",
       "    }\n",
       "\n",
       "    .dataframe thead th {\n",
       "        text-align: left;\n",
       "    }\n",
       "\n",
       "    .dataframe tbody tr th {\n",
       "        vertical-align: top;\n",
       "    }\n",
       "</style>\n",
       "<table border=\"1\" class=\"dataframe\">\n",
       "  <thead>\n",
       "    <tr style=\"text-align: right;\">\n",
       "      <th></th>\n",
       "      <th>Unnamed: 0</th>\n",
       "      <th>pais</th>\n",
       "      <th>anio</th>\n",
       "      <th>encuesta</th>\n",
       "      <th>cod_hogar</th>\n",
       "      <th>cod_persona</th>\n",
       "      <th>miembros_hogar</th>\n",
       "      <th>factor_expansion</th>\n",
       "      <th>ing_lab_persona</th>\n",
       "      <th>rama_pri</th>\n",
       "      <th>...</th>\n",
       "      <th>gasto_edre</th>\n",
       "      <th>gasto_otros</th>\n",
       "      <th>cod_uf</th>\n",
       "      <th>num_seq</th>\n",
       "      <th>num_dv</th>\n",
       "      <th>cod_domc</th>\n",
       "      <th>num_ordem_inform</th>\n",
       "      <th>rama_pri_cor</th>\n",
       "      <th>rama_pri_isic3</th>\n",
       "      <th>rama_pri_isic4</th>\n",
       "    </tr>\n",
       "  </thead>\n",
       "  <tbody>\n",
       "    <tr>\n",
       "      <th>0</th>\n",
       "      <td>0</td>\n",
       "      <td>BRA</td>\n",
       "      <td>2008</td>\n",
       "      <td>POF</td>\n",
       "      <td>1.0</td>\n",
       "      <td>1</td>\n",
       "      <td>5</td>\n",
       "      <td>421.778564</td>\n",
       "      <td>0.000000</td>\n",
       "      <td>NaN</td>\n",
       "      <td>...</td>\n",
       "      <td>88.650002</td>\n",
       "      <td>264.746674</td>\n",
       "      <td>11</td>\n",
       "      <td>1</td>\n",
       "      <td>9</td>\n",
       "      <td>1</td>\n",
       "      <td>4.0</td>\n",
       "      <td>NaN</td>\n",
       "      <td>NaN</td>\n",
       "      <td>NaN</td>\n",
       "    </tr>\n",
       "    <tr>\n",
       "      <th>1</th>\n",
       "      <td>1</td>\n",
       "      <td>BRA</td>\n",
       "      <td>2008</td>\n",
       "      <td>POF</td>\n",
       "      <td>1.0</td>\n",
       "      <td>2</td>\n",
       "      <td>5</td>\n",
       "      <td>421.778564</td>\n",
       "      <td>5310.521484</td>\n",
       "      <td>53068.0</td>\n",
       "      <td>...</td>\n",
       "      <td>88.650002</td>\n",
       "      <td>264.746674</td>\n",
       "      <td>11</td>\n",
       "      <td>1</td>\n",
       "      <td>9</td>\n",
       "      <td>1</td>\n",
       "      <td>1.0</td>\n",
       "      <td>53068.0</td>\n",
       "      <td>513, 514, 519, 523, 524</td>\n",
       "      <td>4641,4649,4663,4661,4662,4669,4690,4772,4751,4...</td>\n",
       "    </tr>\n",
       "    <tr>\n",
       "      <th>2</th>\n",
       "      <td>2</td>\n",
       "      <td>BRA</td>\n",
       "      <td>2008</td>\n",
       "      <td>POF</td>\n",
       "      <td>1.0</td>\n",
       "      <td>3</td>\n",
       "      <td>5</td>\n",
       "      <td>421.778564</td>\n",
       "      <td>0.000000</td>\n",
       "      <td>NaN</td>\n",
       "      <td>...</td>\n",
       "      <td>88.650002</td>\n",
       "      <td>264.746674</td>\n",
       "      <td>11</td>\n",
       "      <td>1</td>\n",
       "      <td>9</td>\n",
       "      <td>1</td>\n",
       "      <td>2.0</td>\n",
       "      <td>NaN</td>\n",
       "      <td>NaN</td>\n",
       "      <td>NaN</td>\n",
       "    </tr>\n",
       "    <tr>\n",
       "      <th>3</th>\n",
       "      <td>3</td>\n",
       "      <td>BRA</td>\n",
       "      <td>2008</td>\n",
       "      <td>POF</td>\n",
       "      <td>1.0</td>\n",
       "      <td>4</td>\n",
       "      <td>5</td>\n",
       "      <td>421.778564</td>\n",
       "      <td>474.700043</td>\n",
       "      <td>53064.0</td>\n",
       "      <td>...</td>\n",
       "      <td>88.650002</td>\n",
       "      <td>264.746674</td>\n",
       "      <td>11</td>\n",
       "      <td>1</td>\n",
       "      <td>9</td>\n",
       "      <td>1</td>\n",
       "      <td>3.0</td>\n",
       "      <td>53064.0</td>\n",
       "      <td>515, 523</td>\n",
       "      <td>4651,4652,4653,4659,4772,4751,4771,4742,4753,4...</td>\n",
       "    </tr>\n",
       "    <tr>\n",
       "      <th>4</th>\n",
       "      <td>4</td>\n",
       "      <td>BRA</td>\n",
       "      <td>2008</td>\n",
       "      <td>POF</td>\n",
       "      <td>2.0</td>\n",
       "      <td>1</td>\n",
       "      <td>3</td>\n",
       "      <td>421.778564</td>\n",
       "      <td>8275.000000</td>\n",
       "      <td>18001.0</td>\n",
       "      <td>...</td>\n",
       "      <td>851.560303</td>\n",
       "      <td>804.262512</td>\n",
       "      <td>11</td>\n",
       "      <td>1</td>\n",
       "      <td>9</td>\n",
       "      <td>3</td>\n",
       "      <td>1.0</td>\n",
       "      <td>18001.0</td>\n",
       "      <td>181, 182</td>\n",
       "      <td>1313,1410,3290,1420,1511</td>\n",
       "    </tr>\n",
       "  </tbody>\n",
       "</table>\n",
       "<p>5 rows × 83 columns</p>\n",
       "</div>"
      ],
      "text/plain": [
       "   Unnamed: 0 pais  anio encuesta  cod_hogar  cod_persona  miembros_hogar  \\\n",
       "0           0  BRA  2008      POF        1.0            1               5   \n",
       "1           1  BRA  2008      POF        1.0            2               5   \n",
       "2           2  BRA  2008      POF        1.0            3               5   \n",
       "3           3  BRA  2008      POF        1.0            4               5   \n",
       "4           4  BRA  2008      POF        2.0            1               3   \n",
       "\n",
       "   factor_expansion  ing_lab_persona  rama_pri  \\\n",
       "0        421.778564         0.000000       NaN   \n",
       "1        421.778564      5310.521484   53068.0   \n",
       "2        421.778564         0.000000       NaN   \n",
       "3        421.778564       474.700043   53064.0   \n",
       "4        421.778564      8275.000000   18001.0   \n",
       "\n",
       "                         ...                          gasto_edre  gasto_otros  \\\n",
       "0                        ...                           88.650002   264.746674   \n",
       "1                        ...                           88.650002   264.746674   \n",
       "2                        ...                           88.650002   264.746674   \n",
       "3                        ...                           88.650002   264.746674   \n",
       "4                        ...                          851.560303   804.262512   \n",
       "\n",
       "   cod_uf  num_seq  num_dv  cod_domc  num_ordem_inform  rama_pri_cor  \\\n",
       "0      11        1       9         1               4.0           NaN   \n",
       "1      11        1       9         1               1.0       53068.0   \n",
       "2      11        1       9         1               2.0           NaN   \n",
       "3      11        1       9         1               3.0       53064.0   \n",
       "4      11        1       9         3               1.0       18001.0   \n",
       "\n",
       "            rama_pri_isic3                                     rama_pri_isic4  \n",
       "0                      NaN                                                NaN  \n",
       "1  513, 514, 519, 523, 524  4641,4649,4663,4661,4662,4669,4690,4772,4751,4...  \n",
       "2                      NaN                                                NaN  \n",
       "3                 515, 523  4651,4652,4653,4659,4772,4751,4771,4742,4753,4...  \n",
       "4                 181, 182                           1313,1410,3290,1420,1511  \n",
       "\n",
       "[5 rows x 83 columns]"
      ]
     },
     "execution_count": 4,
     "metadata": {},
     "output_type": "execute_result"
    }
   ],
   "source": [
    "db=db.sort_index()\n",
    "db.head()"
   ]
  },
  {
   "cell_type": "markdown",
   "metadata": {},
   "source": [
    "# count jobs"
   ]
  },
  {
   "cell_type": "code",
   "execution_count": 5,
   "metadata": {},
   "outputs": [
    {
     "data": {
      "text/plain": [
       "1    4641,4649,4663,4661,4662,4669,4690,4772,4751,4...\n",
       "3    4651,4652,4653,4659,4772,4751,4771,4742,4753,4...\n",
       "4                             1313,1410,3290,1420,1511\n",
       "5                        8610,8620,8690,8710,8720,8730\n",
       "6                             8421,8890,8422,7120,8423\n",
       "Name: rama_pri_isic4, dtype: object"
      ]
     },
     "execution_count": 5,
     "metadata": {},
     "output_type": "execute_result"
    }
   ],
   "source": [
    "db.rama_pri_isic4.dropna().head()"
   ]
  },
  {
   "cell_type": "code",
   "execution_count": 6,
   "metadata": {},
   "outputs": [
    {
     "data": {
      "text/html": [
       "<div>\n",
       "<style>\n",
       "    .dataframe thead tr:only-child th {\n",
       "        text-align: right;\n",
       "    }\n",
       "\n",
       "    .dataframe thead th {\n",
       "        text-align: left;\n",
       "    }\n",
       "\n",
       "    .dataframe tbody tr th {\n",
       "        vertical-align: top;\n",
       "    }\n",
       "</style>\n",
       "<table border=\"1\" class=\"dataframe\">\n",
       "  <thead>\n",
       "    <tr style=\"text-align: right;\">\n",
       "      <th></th>\n",
       "      <th>isic</th>\n",
       "    </tr>\n",
       "  </thead>\n",
       "  <tbody>\n",
       "    <tr>\n",
       "      <th>1</th>\n",
       "      <td>4641</td>\n",
       "    </tr>\n",
       "    <tr>\n",
       "      <th>1</th>\n",
       "      <td>4649</td>\n",
       "    </tr>\n",
       "    <tr>\n",
       "      <th>1</th>\n",
       "      <td>4663</td>\n",
       "    </tr>\n",
       "    <tr>\n",
       "      <th>1</th>\n",
       "      <td>4661</td>\n",
       "    </tr>\n",
       "    <tr>\n",
       "      <th>1</th>\n",
       "      <td>4662</td>\n",
       "    </tr>\n",
       "  </tbody>\n",
       "</table>\n",
       "</div>"
      ],
      "text/plain": [
       "   isic\n",
       "1  4641\n",
       "1  4649\n",
       "1  4663\n",
       "1  4661\n",
       "1  4662"
      ]
     },
     "execution_count": 6,
     "metadata": {},
     "output_type": "execute_result"
    }
   ],
   "source": [
    "ocupation_splitted = pd.DataFrame(split_series_into_lines(db.rama_pri_isic4.dropna()), columns=[\"isic\" ])\n",
    "ocupation_splitted.head()"
   ]
  },
  {
   "cell_type": "code",
   "execution_count": 7,
   "metadata": {},
   "outputs": [
    {
     "data": {
      "text/plain": [
       "1    21\n",
       "3    17\n",
       "4     5\n",
       "5     6\n",
       "6     5\n",
       "dtype: int64"
      ]
     },
     "execution_count": 7,
     "metadata": {},
     "output_type": "execute_result"
    }
   ],
   "source": [
    "number_of_possible_isic = ocupation_splitted.groupby(level=[0]).size()\n",
    "number_of_possible_isic.head()"
   ]
  },
  {
   "cell_type": "code",
   "execution_count": 8,
   "metadata": {},
   "outputs": [
    {
     "data": {
      "text/html": [
       "<div>\n",
       "<style>\n",
       "    .dataframe thead tr:only-child th {\n",
       "        text-align: right;\n",
       "    }\n",
       "\n",
       "    .dataframe thead th {\n",
       "        text-align: left;\n",
       "    }\n",
       "\n",
       "    .dataframe tbody tr th {\n",
       "        vertical-align: top;\n",
       "    }\n",
       "</style>\n",
       "<table border=\"1\" class=\"dataframe\">\n",
       "  <thead>\n",
       "    <tr style=\"text-align: right;\">\n",
       "      <th></th>\n",
       "      <th>isic</th>\n",
       "      <th>weight</th>\n",
       "    </tr>\n",
       "  </thead>\n",
       "  <tbody>\n",
       "    <tr>\n",
       "      <th>1</th>\n",
       "      <td>4641</td>\n",
       "      <td>0.047619</td>\n",
       "    </tr>\n",
       "    <tr>\n",
       "      <th>1</th>\n",
       "      <td>4649</td>\n",
       "      <td>0.047619</td>\n",
       "    </tr>\n",
       "    <tr>\n",
       "      <th>1</th>\n",
       "      <td>4663</td>\n",
       "      <td>0.047619</td>\n",
       "    </tr>\n",
       "    <tr>\n",
       "      <th>1</th>\n",
       "      <td>4661</td>\n",
       "      <td>0.047619</td>\n",
       "    </tr>\n",
       "    <tr>\n",
       "      <th>1</th>\n",
       "      <td>4662</td>\n",
       "      <td>0.047619</td>\n",
       "    </tr>\n",
       "  </tbody>\n",
       "</table>\n",
       "</div>"
      ],
      "text/plain": [
       "   isic    weight\n",
       "1  4641  0.047619\n",
       "1  4649  0.047619\n",
       "1  4663  0.047619\n",
       "1  4661  0.047619\n",
       "1  4662  0.047619"
      ]
     },
     "execution_count": 8,
     "metadata": {},
     "output_type": "execute_result"
    }
   ],
   "source": [
    "ocupation_splitted[\"weight\"]= 1/ number_of_possible_isic\n",
    "ocupation_splitted.head()"
   ]
  },
  {
   "cell_type": "code",
   "execution_count": 9,
   "metadata": {},
   "outputs": [
    {
     "data": {
      "text/plain": [
       "18676     1.0\n",
       "10226     1.0\n",
       "62799     1.0\n",
       "71034     1.0\n",
       "124388    1.0\n",
       "123335    1.0\n",
       "66884     1.0\n",
       "43446     1.0\n",
       "61056     1.0\n",
       "107612    1.0\n",
       "Name: weight, dtype: float64"
      ]
     },
     "execution_count": 9,
     "metadata": {},
     "output_type": "execute_result"
    }
   ],
   "source": [
    "# check: should be one\n",
    "ocupation_splitted.weight.sum(level=0).sample(10)"
   ]
  },
  {
   "cell_type": "code",
   "execution_count": 10,
   "metadata": {
    "collapsed": true
   },
   "outputs": [],
   "source": [
    "ocupation_splitted[\"factor_expansion\"] = db[\"factor_expansion\"]"
   ]
  },
  {
   "cell_type": "code",
   "execution_count": 11,
   "metadata": {
    "collapsed": true
   },
   "outputs": [],
   "source": [
    "jobs_per_sector = ocupation_splitted.set_index(\"isic\")[[\"weight\",\"factor_expansion\"]].prod(axis=1).sum(level=0)"
   ]
  },
  {
   "cell_type": "code",
   "execution_count": 12,
   "metadata": {
    "collapsed": true
   },
   "outputs": [],
   "source": [
    "glob.os.makedirs(hhh_dir+\"jobscount\",exist_ok=True)"
   ]
  },
  {
   "cell_type": "code",
   "execution_count": 13,
   "metadata": {
    "collapsed": true
   },
   "outputs": [],
   "source": [
    "jobs_per_sector.index.name=\"isic4\"\n",
    "jobs_per_sector.name = \"jobs_count_BRA\"\n",
    "jobs_per_sector.to_csv(hhh_dir+\"jobscount\"+\"/BRA.csv\",header=True)"
   ]
  },
  {
   "cell_type": "markdown",
   "metadata": {},
   "source": [
    "# Compare with total number of jobs from IADB"
   ]
  },
  {
   "cell_type": "code",
   "execution_count": 14,
   "metadata": {},
   "outputs": [
    {
     "data": {
      "text/plain": [
       "88.13422545997561"
      ]
     },
     "execution_count": 14,
     "metadata": {},
     "output_type": "execute_result"
    }
   ],
   "source": [
    "jobs_per_sector.sum()*1e-6"
   ]
  },
  {
   "cell_type": "code",
   "execution_count": 15,
   "metadata": {},
   "outputs": [
    {
     "ename": "NameError",
     "evalue": "name 'search_wb' is not defined",
     "output_type": "error",
     "traceback": [
      "\u001b[1;31m---------------------------------------------------------------------------\u001b[0m",
      "\u001b[1;31mNameError\u001b[0m                                 Traceback (most recent call last)",
      "\u001b[1;32m<ipython-input-15-881b08d1f240>\u001b[0m in \u001b[0;36m<module>\u001b[1;34m()\u001b[0m\n\u001b[1;32m----> 1\u001b[1;33m \u001b[0msearch_wb\u001b[0m\u001b[1;33m(\u001b[0m\u001b[1;34m\"population\"\u001b[0m\u001b[1;33m)\u001b[0m\u001b[1;33m\u001b[0m\u001b[0m\n\u001b[0m",
      "\u001b[1;31mNameError\u001b[0m: name 'search_wb' is not defined"
     ]
    }
   ],
   "source": [
    "search_wb(\"population\")"
   ]
  },
  {
   "cell_type": "code",
   "execution_count": null,
   "metadata": {
    "collapsed": true
   },
   "outputs": [],
   "source": [
    "wb_data =pd.DataFrame()\n",
    "wb_data[\"population\"]= get_wb(\"SP.POP.TOTL\")[\"2008\"]"
   ]
  },
  {
   "cell_type": "code",
   "execution_count": null,
   "metadata": {},
   "outputs": [],
   "source": [
    "sims_data = pd.read_csv(\"sims_data/RawDataExport20171030.csv\", encoding=\"ansi\", skiprows=14,usecols=[0,1,2,10] , squeeze=True,  converters={\"valor\":lambda s:s.replace(\",\",\"\")}\n",
    "                       ).set_index([\"extended_country\",\"anio\",\"var_description\"]).squeeze()"
   ]
  },
  {
   "cell_type": "code",
   "execution_count": null,
   "metadata": {
    "collapsed": true
   },
   "outputs": [],
   "source": [
    "sims_data[\"Brazil\"][2008]"
   ]
  },
  {
   "cell_type": "code",
   "execution_count": null,
   "metadata": {},
   "outputs": [],
   "source": [
    "wb_data.loc[\"Brazil\",\"population\"]*sims_data[\"Brazil\"][2008].astype(float)[\"Employed population (%)\"]/100"
   ]
  },
  {
   "cell_type": "code",
   "execution_count": null,
   "metadata": {
    "collapsed": true
   },
   "outputs": [],
   "source": []
  },
  {
   "cell_type": "code",
   "execution_count": null,
   "metadata": {
    "collapsed": true
   },
   "outputs": [],
   "source": []
  }
 ],
 "metadata": {
  "kernelspec": {
   "display_name": "Python 3",
   "language": "python",
   "name": "python3"
  },
  "language_info": {
   "codemirror_mode": {
    "name": "ipython",
    "version": 3
   },
   "file_extension": ".py",
   "mimetype": "text/x-python",
   "name": "python",
   "nbconvert_exporter": "python",
   "pygments_lexer": "ipython3",
   "version": "3.6.1"
  },
  "nav_menu": {},
  "toc": {
   "colors": {
    "hover_highlight": "#DAA520",
    "navigate_num": "#000000",
    "navigate_text": "#333333",
    "running_highlight": "#FF0000",
    "selected_highlight": "#FFD700",
    "sidebar_border": "#EEEEEE",
    "wrapper_background": "#FFFFFF"
   },
   "moveMenuLeft": true,
   "nav_menu": {
    "height": "83px",
    "width": "252px"
   },
   "navigate_menu": true,
   "number_sections": true,
   "sideBar": true,
   "threshold": 4,
   "toc_cell": false,
   "toc_section_display": "block",
   "toc_window_display": false,
   "widenNotebook": false
  }
 },
 "nbformat": 4,
 "nbformat_minor": 2
}
